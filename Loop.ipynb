{
  "nbformat": 4,
  "nbformat_minor": 0,
  "metadata": {
    "colab": {
      "provenance": []
    },
    "kernelspec": {
      "name": "python3",
      "display_name": "Python 3"
    },
    "language_info": {
      "name": "python"
    }
  },
  "cells": [
    {
      "cell_type": "code",
      "execution_count": null,
      "metadata": {
        "id": "uAaL1omD4o3e"
      },
      "outputs": [],
      "source": []
    },
    {
      "cell_type": "markdown",
      "source": [
        "# Loop\n",
        "Que1:- What is the difference between for loop and while loop in Python?\n",
        "Ans:-  for loop is used when the number of iterations is known.\n",
        "\n",
        "       while loop is used when the number of iterations is not known and depends on a condition.\n",
        "Que2:- What is an infinite loop? How can you stop it?\n",
        "Ans:-  An infinite loop is a loop that never ends (runs forever).\n",
        "       It can be stopped using break statement or by pressing Ctrl + C during execution (in terminal)"
      ],
      "metadata": {
        "id": "XUmWjc704sN5"
      }
    },
    {
      "cell_type": "code",
      "source": [
        "#Que3:-What will be the output of the following code?\n",
        "for i in range(1, 6):\n",
        "    if i == 3:\n",
        "        continue\n",
        "    print(i, end=\" \")\n"
      ],
      "metadata": {
        "colab": {
          "base_uri": "https://localhost:8080/"
        },
        "id": "tICx6G-s4uNg",
        "outputId": "436da7df-36e8-41c5-cc15-3352f0745ed6"
      },
      "execution_count": 1,
      "outputs": [
        {
          "output_type": "stream",
          "name": "stdout",
          "text": [
            "1 2 4 5 "
          ]
        }
      ]
    }
  ]
}